{
  "cells": [
    {
      "cell_type": "code",
      "execution_count": null,
      "metadata": {
        "id": "5n0eph9UB8qM"
      },
      "outputs": [],
      "source": [
        "import pandas as pd\n",
        "import numpy as np\n",
        "import seaborn as sns\n",
        "import matplotlib.pyplot as plt\n",
        "import statsmodels.api as sm\n",
        "import statsmodels.formula.api as smf"
      ]
    },
    {
      "cell_type": "code",
      "execution_count": null,
      "metadata": {
        "id": "cfUl3klWCN84"
      },
      "outputs": [],
      "source": [
        "df = pd.read_csv('data.csv',sep=';')"
      ]
    },
    {
      "cell_type": "code",
      "source": [
        "sns.distplot(df.Number_of_Purchases,kde=False,color='#6C63FF', hist_kws={\"alpha\": 1})"
      ],
      "metadata": {
        "id": "E5wW20De6thg"
      },
      "execution_count": null,
      "outputs": []
    },
    {
      "cell_type": "code",
      "source": [
        "df.columns"
      ],
      "metadata": {
        "id": "UJ4v4e_AXIWj"
      },
      "execution_count": null,
      "outputs": []
    },
    {
      "cell_type": "code",
      "execution_count": null,
      "metadata": {
        "id": "L7Ep76IdCQ7_"
      },
      "outputs": [],
      "source": [
        "df.head()"
      ]
    },
    {
      "cell_type": "code",
      "execution_count": null,
      "metadata": {
        "id": "1UtYEhOmChKw"
      },
      "outputs": [],
      "source": [
        "df.describe()"
      ]
    },
    {
      "cell_type": "markdown",
      "metadata": {
        "id": "C3BiSHQHFw7g"
      },
      "source": [
        "Znumber of words and age have to be turned from string into quantitative variables"
      ]
    },
    {
      "cell_type": "code",
      "execution_count": null,
      "metadata": {
        "id": "Xx5Rs_9TF3PY"
      },
      "outputs": [],
      "source": [
        "# changing the type of variables Age and Znumber_Words_Review to numeric(float)\n",
        "\n",
        "df.ZNumber_Words_Review = df.ZNumber_Words_Review.str.replace(',','.').astype(float)\n",
        "df.Age = df.Age.str.replace(',','.').astype(float)"
      ]
    },
    {
      "cell_type": "code",
      "source": [
        "maxage = np.max(df.Age)\n",
        "minage = np.min(df.Age)\n",
        "\n",
        "# Scaling the variable Age to the interval 0-1\n",
        "\n",
        "for i in range(len(df.Age)):\n",
        "  df.Age[i] = (df.Age[i] - minage)/(maxage - minage)"
      ],
      "metadata": {
        "id": "dL6RdMj-Zz9Q"
      },
      "execution_count": null,
      "outputs": []
    },
    {
      "cell_type": "code",
      "source": [],
      "metadata": {
        "id": "qtbTgBCACNGJ"
      },
      "execution_count": null,
      "outputs": []
    },
    {
      "cell_type": "code",
      "source": [
        "df2 = df.drop(['Number_Words_Review',           # we have standardized version of the same variable\n",
        "               'Prod_Design_negative',\n",
        "              'Prod_Technical_negative',        # the value of X_negative can be fully ascertained by the value of X and X_positive (we could have also removed positive for the same reasoning)\n",
        "              'Prod_Price_negative',\n",
        "              'Serv_Delivery_negative',\n",
        "               'Purchase',                      # we can find its value by a simple condition on number of purchases (>0)\n",
        "               'Review_ID',\n",
        "               'Category'\n",
        "               ],                     \n",
        "              axis=1)"
      ],
      "metadata": {
        "id": "JccG7rSubX9B"
      },
      "execution_count": null,
      "outputs": []
    },
    {
      "cell_type": "code",
      "source": [
        "df2.describe()"
      ],
      "metadata": {
        "id": "58nrfB4g79-H"
      },
      "execution_count": null,
      "outputs": []
    },
    {
      "cell_type": "code",
      "source": [
        "df2.columns"
      ],
      "metadata": {
        "id": "M5EoVNFrdGRJ"
      },
      "execution_count": null,
      "outputs": []
    },
    {
      "cell_type": "code",
      "source": [
        "df2.head()"
      ],
      "metadata": {
        "id": "UXprmNNdfDWw"
      },
      "execution_count": null,
      "outputs": []
    },
    {
      "cell_type": "markdown",
      "metadata": {
        "id": "0wgcvuahCpjV"
      },
      "source": [
        "ex 1"
      ]
    },
    {
      "cell_type": "code",
      "execution_count": null,
      "metadata": {
        "id": "-JDfJUuuCoMX"
      },
      "outputs": [],
      "source": [
        "y = df2.Rating_Score\n",
        "X = df2.loc[:,df2.columns != 'Rating_Score']"
      ]
    },
    {
      "cell_type": "code",
      "execution_count": null,
      "metadata": {
        "id": "siJrAChzLzGY"
      },
      "outputs": [],
      "source": [
        "plt.figure(figsize=(13,10))\n",
        "corrmat = df.corr()\n",
        "corrmat2 = abs(corrmat)\n",
        "sns.heatmap(corrmat)"
      ]
    },
    {
      "cell_type": "code",
      "source": [
        "y_1 = df3.Rating_Score\n",
        "X_1 = df3.loc[:,df3.columns != 'Rating_Score']"
      ],
      "metadata": {
        "id": "3i0T6_iYglEh"
      },
      "execution_count": null,
      "outputs": []
    },
    {
      "cell_type": "markdown",
      "source": [],
      "metadata": {
        "id": "jjTwFpbGHyl2"
      }
    },
    {
      "cell_type": "code",
      "execution_count": null,
      "metadata": {
        "id": "MsB5ZqkMEWxg"
      },
      "outputs": [],
      "source": [
        "X_1 = sm.add_constant(X_1)"
      ]
    },
    {
      "cell_type": "code",
      "source": [
        "results_1 = sm.OLS(y_1,X_1).fit()\n",
        "print(results_1.summary())"
      ],
      "metadata": {
        "id": "76e2hJJMecf0"
      },
      "execution_count": null,
      "outputs": []
    },
    {
      "cell_type": "code",
      "source": [
        "X = sm.add_constant(X)\n",
        "results = sm.OLS(y, X).fit()\n",
        "print(results.summary())"
      ],
      "metadata": {
        "id": "b8_i4OkbiMAQ"
      },
      "execution_count": null,
      "outputs": []
    },
    {
      "cell_type": "code",
      "source": [
        "df3 = df.drop(['Number_Words_Review',           # we have standardized version of the same variable\n",
        "               'Purchase',                      # we can find its value by a simple condition on number of purchases (>0)\n",
        "               'Review_ID',\n",
        "               'Category'],                     \n",
        "              axis=1)\n",
        "\n",
        "y3 = df3.Rating_Score\n",
        "X3 = df3.loc[:,df3.columns != 'Rating_Score']\n",
        "X3 = sm.add_constant(X3)\n",
        "results = sm.OLS(y3, X3).fit()\n",
        "print(results.summary())"
      ],
      "metadata": {
        "id": "1B_tUByPSGOB"
      },
      "execution_count": null,
      "outputs": []
    },
    {
      "cell_type": "markdown",
      "source": [
        "ex 2"
      ],
      "metadata": {
        "id": "XVYEDE0bnVya"
      }
    },
    {
      "cell_type": "code",
      "source": [
        "df.head()\n",
        "df_ex2 = df.drop(['Category','CategoryU','CategoryBoth', 'Country', 'Gender', 'Age','Number_Words_Review','Review_ID','Number_of_Purchases',\n",
        "                  'Prod_Design_negative','Prod_Technical_negative','Prod_Price_negative','Serv_Delivery_negative',],                     \n",
        "              axis=1)\n"
      ],
      "metadata": {
        "id": "FFFpJQyeWysq"
      },
      "execution_count": null,
      "outputs": []
    },
    {
      "cell_type": "code",
      "source": [
        "df_ex2.columns"
      ],
      "metadata": {
        "id": "fVDsrAowYGhy"
      },
      "execution_count": null,
      "outputs": []
    },
    {
      "cell_type": "code",
      "source": [
        "log_reg = smf.logit(\"Purchase ~ ZNumber_Words_Review + Prod_Desig + Prod_Design_positive + Prod_Technical + Prod_Technical_positive + Prod_Price + Prod_Price_positive + Sentiment + Rating_Score\", data=df_ex2).fit()"
      ],
      "metadata": {
        "id": "a9VHWbKkXqg8"
      },
      "execution_count": null,
      "outputs": []
    },
    {
      "cell_type": "code",
      "source": [
        "print(log_reg.summary())"
      ],
      "metadata": {
        "id": "1hPWENzVYfwj"
      },
      "execution_count": null,
      "outputs": []
    },
    {
      "cell_type": "markdown",
      "source": [
        "Experiment Adding Socio-Demographic Variables in ex2"
      ],
      "metadata": {
        "id": "TjopcNCocpvr"
      }
    },
    {
      "cell_type": "code",
      "source": [
        "df_ex2_2 = df.drop(['Number_Words_Review','Review_ID','Number_of_Purchases',\n",
        "                  'Prod_Design_negative','Prod_Technical_negative','Prod_Price_negative','Serv_Delivery_negative','Category'],                     \n",
        "              axis=1)"
      ],
      "metadata": {
        "id": "PNVhQsY5cYiL"
      },
      "execution_count": null,
      "outputs": []
    },
    {
      "cell_type": "code",
      "source": [
        "log_reg_2 = smf.logit(\"Purchase ~ ZNumber_Words_Review + Prod_Desig + Prod_Design_positive + Prod_Technical + Prod_Technical_positive + Prod_Price + Prod_Price_positive + Sentiment + Rating_Score + Age + Gender + Country + CategoryU + CategoryBoth\", data=df_ex2_2).fit()"
      ],
      "metadata": {
        "id": "MMmRtRvzchYU"
      },
      "execution_count": null,
      "outputs": []
    },
    {
      "cell_type": "code",
      "source": [
        "print(log_reg_2.summary())"
      ],
      "metadata": {
        "id": "ddnpNS1-co4z"
      },
      "execution_count": null,
      "outputs": []
    },
    {
      "cell_type": "markdown",
      "source": [
        "Ex 3"
      ],
      "metadata": {
        "id": "sYeJTW4RFnJE"
      }
    },
    {
      "cell_type": "code",
      "source": [
        "sns.displot(df, x='Number_of_Purchases')  #for question 3"
      ],
      "metadata": {
        "id": "sUE_vyJRA1wb"
      },
      "execution_count": null,
      "outputs": []
    },
    {
      "cell_type": "code",
      "source": [
        "df_ex3 = df2\n",
        "df_ex3.columns"
      ],
      "metadata": {
        "id": "gCGorRSCGQVV"
      },
      "execution_count": null,
      "outputs": []
    },
    {
      "cell_type": "code",
      "source": [
        "poisson = smf.glm(\n",
        "    \"Number_of_Purchases ~ ZNumber_Words_Review + Prod_Desig + Prod_Design_positive + Prod_Technical + Prod_Technical_positive + Prod_Price + Prod_Price_positive + Serv_Delivery + Serv_Delivery_positive + Country + Gender + Age + Sentiment + Rating_Score\",\n",
        "    data=df_ex3,\n",
        "    family=sm.families.Poisson())\n"
      ],
      "metadata": {
        "id": "ocoKXfjaEatR"
      },
      "execution_count": null,
      "outputs": []
    },
    {
      "cell_type": "code",
      "source": [
        "poisson_results = poisson.fit()\n",
        "print(poisson_results.summary())"
      ],
      "metadata": {
        "id": "SeqgfZT7G1tB"
      },
      "execution_count": null,
      "outputs": []
    },
    {
      "cell_type": "markdown",
      "source": [
        "ex4\n"
      ],
      "metadata": {
        "id": "pCTbWUeWIefY"
      }
    },
    {
      "cell_type": "code",
      "source": [
        "df_ex4 = df.drop(['Number_Words_Review',\n",
        "               'Purchase',                      \n",
        "               'Review_ID',\n",
        "               'Category'],                     \n",
        "              axis=1)\n",
        "df_ex4.columns"
      ],
      "metadata": {
        "id": "UzO1NzwuIpT8"
      },
      "execution_count": null,
      "outputs": []
    },
    {
      "cell_type": "code",
      "source": [
        "interactions_model = smf.ols(formula=\"Rating_Score ~ ZNumber_Words_Review + Prod_Desig + Prod_Technical + Prod_Price + Prod_Design_positive * Prod_Technical_positive + Prod_Price_positive + Serv_Delivery + Serv_Delivery_positive + Country + Gender + Age*Sentiment + Number_of_Purchases + CategoryU + CategoryBoth\", data=df_ex4)"
      ],
      "metadata": {
        "id": "_iSgYgM2IfqS"
      },
      "execution_count": null,
      "outputs": []
    },
    {
      "cell_type": "code",
      "source": [
        "interactions_results = interactions_model.fit()\n",
        "print(interactions_results.summary())"
      ],
      "metadata": {
        "id": "eDnAW0OoJBUC"
      },
      "execution_count": null,
      "outputs": []
    },
    {
      "cell_type": "code",
      "source": [
        "# log model with interactions\n",
        "log_reg_2 = smf.logit(\"Purchase ~ ZNumber_Words_Review + Prod_Desig + Prod_Technical + Prod_Price + Prod_Design_positive * Prod_Technical_positive + Prod_Price_positive + Sentiment + Rating_Score + Age * Sentiment + Gender + Country + CategoryU + CategoryBoth\", data=df_ex2_2).fit()\n",
        "print(log_reg_2.summary())"
      ],
      "metadata": {
        "id": "ZXLf2vYmSg5z"
      },
      "execution_count": null,
      "outputs": []
    },
    {
      "cell_type": "code",
      "source": [
        "# poisson with interactions\n",
        "poisson = smf.glm(\n",
        "    \"Number_of_Purchases ~ ZNumber_Words_Review + Prod_Technical + Prod_Desig + Prod_Design_positive * Prod_Technical_positive + Prod_Price + Prod_Price_positive + Serv_Delivery + Serv_Delivery_positive + Country + Gender + Age * Sentiment + Rating_Score + CategoryU + CategoryBoth\",\n",
        "    data=df_ex3,\n",
        "    family=sm.families.Poisson())\n",
        "poisson_results = poisson.fit()\n",
        "print(poisson_results.summary())"
      ],
      "metadata": {
        "id": "Y7bKFlWQVcz8"
      },
      "execution_count": null,
      "outputs": []
    },
    {
      "cell_type": "markdown",
      "source": [
        "\n",
        " "
      ],
      "metadata": {
        "id": "8SbPFl8GswY4"
      }
    },
    {
      "cell_type": "markdown",
      "source": [
        "### ASSIGNMENT N2"
      ],
      "metadata": {
        "id": "GeSIeVO0q-qp"
      }
    },
    {
      "cell_type": "code",
      "source": [
        "import pandas as pd\n",
        "import numpy as np\n",
        "import seaborn as sns\n",
        "import matplotlib.pyplot as plt\n",
        "import statsmodels.api as sm\n",
        "import statsmodels.formula.api as smf"
      ],
      "metadata": {
        "id": "mcgvMM-iA_n9",
        "colab": {
          "base_uri": "https://localhost:8080/"
        },
        "outputId": "f7fdb9bc-4c6e-4d85-e31a-b693e83335f1"
      },
      "execution_count": null,
      "outputs": [
        {
          "output_type": "stream",
          "name": "stderr",
          "text": [
            "/usr/local/lib/python3.7/dist-packages/statsmodels/tools/_testing.py:19: FutureWarning: pandas.util.testing is deprecated. Use the functions in the public API at pandas.testing instead.\n",
            "  import pandas.util.testing as tm\n"
          ]
        }
      ]
    },
    {
      "cell_type": "code",
      "source": [
        "df = pd.read_excel('Assignment2_balancedpanel.xlsx').set_index(['CustomerID','Month'])"
      ],
      "metadata": {
        "id": "dmZWMqUnBZMY"
      },
      "execution_count": null,
      "outputs": []
    },
    {
      "cell_type": "code",
      "source": [
        "df.head()"
      ],
      "metadata": {
        "colab": {
          "base_uri": "https://localhost:8080/",
          "height": 310
        },
        "id": "rkLPiwmfDGTr",
        "outputId": "3f0ba977-d50a-474b-b898-d2b68f3e009d"
      },
      "execution_count": null,
      "outputs": [
        {
          "output_type": "execute_result",
          "data": {
            "text/plain": [
              "                  catalog  purchase  ordersize  purtvr  purweb  mailper  \\\n",
              "CustomerID Month                                                          \n",
              "1.0        0.0        1.0       0.0        0.0     0.0     0.0      0.0   \n",
              "           1.0        1.0       0.0        0.0     0.0     0.0      0.0   \n",
              "           2.0        1.0       0.0        0.0     0.0     0.0      0.0   \n",
              "           3.0        1.0       0.0        0.0     0.0     0.0      0.0   \n",
              "           4.0        1.0       0.0        0.0     0.0     0.0      0.0   \n",
              "\n",
              "                  lastordersize  statepur  formerchannelpreference  \\\n",
              "CustomerID Month                                                     \n",
              "1.0        0.0            49.99       0.0                      1.0   \n",
              "           1.0            49.99       0.0                      1.0   \n",
              "           2.0            49.99       0.0                      1.0   \n",
              "           3.0            49.99       0.0                      1.0   \n",
              "           4.0            49.99       0.0                      1.0   \n",
              "\n",
              "                  formerpurchases  ...  timespline3  cexmonth1  cexmail2  \\\n",
              "CustomerID Month                   ...                                     \n",
              "1.0        0.0                1.0  ...          0.0        0.0       0.0   \n",
              "           1.0                1.0  ...          0.0        1.0       0.0   \n",
              "           2.0                1.0  ...          0.0        2.0       0.0   \n",
              "           3.0                1.0  ...          0.0        3.0       0.0   \n",
              "           4.0                1.0  ...          0.0        4.0       0.0   \n",
              "\n",
              "                  cexstpur  cexinitv  cexmin1  cexspl2  cexspl3  cexorlas  \\\n",
              "CustomerID Month                                                            \n",
              "1.0        0.0         0.0       1.0      1.0      0.0      0.0     49.99   \n",
              "           1.0         0.0       1.0      1.0      0.0      0.0     49.99   \n",
              "           2.0         0.0       1.0      1.0      0.0      0.0     49.99   \n",
              "           3.0         0.0       1.0      1.0      0.0      0.0     49.99   \n",
              "           4.0         0.0       1.0      1.0      0.0      0.0     49.99   \n",
              "\n",
              "                  cexmino  \n",
              "CustomerID Month           \n",
              "1.0        0.0      49.99  \n",
              "           1.0      49.99  \n",
              "           2.0      49.99  \n",
              "           3.0      49.99  \n",
              "           4.0      49.99  \n",
              "\n",
              "[5 rows x 22 columns]"
            ],
            "text/html": [
              "\n",
              "  <div id=\"df-b92f6f88-249f-4d7d-8a01-f7555f4f44cb\">\n",
              "    <div class=\"colab-df-container\">\n",
              "      <div>\n",
              "<style scoped>\n",
              "    .dataframe tbody tr th:only-of-type {\n",
              "        vertical-align: middle;\n",
              "    }\n",
              "\n",
              "    .dataframe tbody tr th {\n",
              "        vertical-align: top;\n",
              "    }\n",
              "\n",
              "    .dataframe thead th {\n",
              "        text-align: right;\n",
              "    }\n",
              "</style>\n",
              "<table border=\"1\" class=\"dataframe\">\n",
              "  <thead>\n",
              "    <tr style=\"text-align: right;\">\n",
              "      <th></th>\n",
              "      <th></th>\n",
              "      <th>catalog</th>\n",
              "      <th>purchase</th>\n",
              "      <th>ordersize</th>\n",
              "      <th>purtvr</th>\n",
              "      <th>purweb</th>\n",
              "      <th>mailper</th>\n",
              "      <th>lastordersize</th>\n",
              "      <th>statepur</th>\n",
              "      <th>formerchannelpreference</th>\n",
              "      <th>formerpurchases</th>\n",
              "      <th>...</th>\n",
              "      <th>timespline3</th>\n",
              "      <th>cexmonth1</th>\n",
              "      <th>cexmail2</th>\n",
              "      <th>cexstpur</th>\n",
              "      <th>cexinitv</th>\n",
              "      <th>cexmin1</th>\n",
              "      <th>cexspl2</th>\n",
              "      <th>cexspl3</th>\n",
              "      <th>cexorlas</th>\n",
              "      <th>cexmino</th>\n",
              "    </tr>\n",
              "    <tr>\n",
              "      <th>CustomerID</th>\n",
              "      <th>Month</th>\n",
              "      <th></th>\n",
              "      <th></th>\n",
              "      <th></th>\n",
              "      <th></th>\n",
              "      <th></th>\n",
              "      <th></th>\n",
              "      <th></th>\n",
              "      <th></th>\n",
              "      <th></th>\n",
              "      <th></th>\n",
              "      <th></th>\n",
              "      <th></th>\n",
              "      <th></th>\n",
              "      <th></th>\n",
              "      <th></th>\n",
              "      <th></th>\n",
              "      <th></th>\n",
              "      <th></th>\n",
              "      <th></th>\n",
              "      <th></th>\n",
              "      <th></th>\n",
              "    </tr>\n",
              "  </thead>\n",
              "  <tbody>\n",
              "    <tr>\n",
              "      <th rowspan=\"5\" valign=\"top\">1.0</th>\n",
              "      <th>0.0</th>\n",
              "      <td>1.0</td>\n",
              "      <td>0.0</td>\n",
              "      <td>0.0</td>\n",
              "      <td>0.0</td>\n",
              "      <td>0.0</td>\n",
              "      <td>0.0</td>\n",
              "      <td>49.99</td>\n",
              "      <td>0.0</td>\n",
              "      <td>1.0</td>\n",
              "      <td>1.0</td>\n",
              "      <td>...</td>\n",
              "      <td>0.0</td>\n",
              "      <td>0.0</td>\n",
              "      <td>0.0</td>\n",
              "      <td>0.0</td>\n",
              "      <td>1.0</td>\n",
              "      <td>1.0</td>\n",
              "      <td>0.0</td>\n",
              "      <td>0.0</td>\n",
              "      <td>49.99</td>\n",
              "      <td>49.99</td>\n",
              "    </tr>\n",
              "    <tr>\n",
              "      <th>1.0</th>\n",
              "      <td>1.0</td>\n",
              "      <td>0.0</td>\n",
              "      <td>0.0</td>\n",
              "      <td>0.0</td>\n",
              "      <td>0.0</td>\n",
              "      <td>0.0</td>\n",
              "      <td>49.99</td>\n",
              "      <td>0.0</td>\n",
              "      <td>1.0</td>\n",
              "      <td>1.0</td>\n",
              "      <td>...</td>\n",
              "      <td>0.0</td>\n",
              "      <td>1.0</td>\n",
              "      <td>0.0</td>\n",
              "      <td>0.0</td>\n",
              "      <td>1.0</td>\n",
              "      <td>1.0</td>\n",
              "      <td>0.0</td>\n",
              "      <td>0.0</td>\n",
              "      <td>49.99</td>\n",
              "      <td>49.99</td>\n",
              "    </tr>\n",
              "    <tr>\n",
              "      <th>2.0</th>\n",
              "      <td>1.0</td>\n",
              "      <td>0.0</td>\n",
              "      <td>0.0</td>\n",
              "      <td>0.0</td>\n",
              "      <td>0.0</td>\n",
              "      <td>0.0</td>\n",
              "      <td>49.99</td>\n",
              "      <td>0.0</td>\n",
              "      <td>1.0</td>\n",
              "      <td>1.0</td>\n",
              "      <td>...</td>\n",
              "      <td>0.0</td>\n",
              "      <td>2.0</td>\n",
              "      <td>0.0</td>\n",
              "      <td>0.0</td>\n",
              "      <td>1.0</td>\n",
              "      <td>1.0</td>\n",
              "      <td>0.0</td>\n",
              "      <td>0.0</td>\n",
              "      <td>49.99</td>\n",
              "      <td>49.99</td>\n",
              "    </tr>\n",
              "    <tr>\n",
              "      <th>3.0</th>\n",
              "      <td>1.0</td>\n",
              "      <td>0.0</td>\n",
              "      <td>0.0</td>\n",
              "      <td>0.0</td>\n",
              "      <td>0.0</td>\n",
              "      <td>0.0</td>\n",
              "      <td>49.99</td>\n",
              "      <td>0.0</td>\n",
              "      <td>1.0</td>\n",
              "      <td>1.0</td>\n",
              "      <td>...</td>\n",
              "      <td>0.0</td>\n",
              "      <td>3.0</td>\n",
              "      <td>0.0</td>\n",
              "      <td>0.0</td>\n",
              "      <td>1.0</td>\n",
              "      <td>1.0</td>\n",
              "      <td>0.0</td>\n",
              "      <td>0.0</td>\n",
              "      <td>49.99</td>\n",
              "      <td>49.99</td>\n",
              "    </tr>\n",
              "    <tr>\n",
              "      <th>4.0</th>\n",
              "      <td>1.0</td>\n",
              "      <td>0.0</td>\n",
              "      <td>0.0</td>\n",
              "      <td>0.0</td>\n",
              "      <td>0.0</td>\n",
              "      <td>0.0</td>\n",
              "      <td>49.99</td>\n",
              "      <td>0.0</td>\n",
              "      <td>1.0</td>\n",
              "      <td>1.0</td>\n",
              "      <td>...</td>\n",
              "      <td>0.0</td>\n",
              "      <td>4.0</td>\n",
              "      <td>0.0</td>\n",
              "      <td>0.0</td>\n",
              "      <td>1.0</td>\n",
              "      <td>1.0</td>\n",
              "      <td>0.0</td>\n",
              "      <td>0.0</td>\n",
              "      <td>49.99</td>\n",
              "      <td>49.99</td>\n",
              "    </tr>\n",
              "  </tbody>\n",
              "</table>\n",
              "<p>5 rows × 22 columns</p>\n",
              "</div>\n",
              "      <button class=\"colab-df-convert\" onclick=\"convertToInteractive('df-b92f6f88-249f-4d7d-8a01-f7555f4f44cb')\"\n",
              "              title=\"Convert this dataframe to an interactive table.\"\n",
              "              style=\"display:none;\">\n",
              "        \n",
              "  <svg xmlns=\"http://www.w3.org/2000/svg\" height=\"24px\"viewBox=\"0 0 24 24\"\n",
              "       width=\"24px\">\n",
              "    <path d=\"M0 0h24v24H0V0z\" fill=\"none\"/>\n",
              "    <path d=\"M18.56 5.44l.94 2.06.94-2.06 2.06-.94-2.06-.94-.94-2.06-.94 2.06-2.06.94zm-11 1L8.5 8.5l.94-2.06 2.06-.94-2.06-.94L8.5 2.5l-.94 2.06-2.06.94zm10 10l.94 2.06.94-2.06 2.06-.94-2.06-.94-.94-2.06-.94 2.06-2.06.94z\"/><path d=\"M17.41 7.96l-1.37-1.37c-.4-.4-.92-.59-1.43-.59-.52 0-1.04.2-1.43.59L10.3 9.45l-7.72 7.72c-.78.78-.78 2.05 0 2.83L4 21.41c.39.39.9.59 1.41.59.51 0 1.02-.2 1.41-.59l7.78-7.78 2.81-2.81c.8-.78.8-2.07 0-2.86zM5.41 20L4 18.59l7.72-7.72 1.47 1.35L5.41 20z\"/>\n",
              "  </svg>\n",
              "      </button>\n",
              "      \n",
              "  <style>\n",
              "    .colab-df-container {\n",
              "      display:flex;\n",
              "      flex-wrap:wrap;\n",
              "      gap: 12px;\n",
              "    }\n",
              "\n",
              "    .colab-df-convert {\n",
              "      background-color: #E8F0FE;\n",
              "      border: none;\n",
              "      border-radius: 50%;\n",
              "      cursor: pointer;\n",
              "      display: none;\n",
              "      fill: #1967D2;\n",
              "      height: 32px;\n",
              "      padding: 0 0 0 0;\n",
              "      width: 32px;\n",
              "    }\n",
              "\n",
              "    .colab-df-convert:hover {\n",
              "      background-color: #E2EBFA;\n",
              "      box-shadow: 0px 1px 2px rgba(60, 64, 67, 0.3), 0px 1px 3px 1px rgba(60, 64, 67, 0.15);\n",
              "      fill: #174EA6;\n",
              "    }\n",
              "\n",
              "    [theme=dark] .colab-df-convert {\n",
              "      background-color: #3B4455;\n",
              "      fill: #D2E3FC;\n",
              "    }\n",
              "\n",
              "    [theme=dark] .colab-df-convert:hover {\n",
              "      background-color: #434B5C;\n",
              "      box-shadow: 0px 1px 3px 1px rgba(0, 0, 0, 0.15);\n",
              "      filter: drop-shadow(0px 1px 2px rgba(0, 0, 0, 0.3));\n",
              "      fill: #FFFFFF;\n",
              "    }\n",
              "  </style>\n",
              "\n",
              "      <script>\n",
              "        const buttonEl =\n",
              "          document.querySelector('#df-b92f6f88-249f-4d7d-8a01-f7555f4f44cb button.colab-df-convert');\n",
              "        buttonEl.style.display =\n",
              "          google.colab.kernel.accessAllowed ? 'block' : 'none';\n",
              "\n",
              "        async function convertToInteractive(key) {\n",
              "          const element = document.querySelector('#df-b92f6f88-249f-4d7d-8a01-f7555f4f44cb');\n",
              "          const dataTable =\n",
              "            await google.colab.kernel.invokeFunction('convertToInteractive',\n",
              "                                                     [key], {});\n",
              "          if (!dataTable) return;\n",
              "\n",
              "          const docLinkHtml = 'Like what you see? Visit the ' +\n",
              "            '<a target=\"_blank\" href=https://colab.research.google.com/notebooks/data_table.ipynb>data table notebook</a>'\n",
              "            + ' to learn more about interactive tables.';\n",
              "          element.innerHTML = '';\n",
              "          dataTable['output_type'] = 'display_data';\n",
              "          await google.colab.output.renderOutput(dataTable, element);\n",
              "          const docLink = document.createElement('div');\n",
              "          docLink.innerHTML = docLinkHtml;\n",
              "          element.appendChild(docLink);\n",
              "        }\n",
              "      </script>\n",
              "    </div>\n",
              "  </div>\n",
              "  "
            ]
          },
          "metadata": {},
          "execution_count": 3
        }
      ]
    },
    {
      "cell_type": "code",
      "source": [
        "df.describe()"
      ],
      "metadata": {
        "colab": {
          "base_uri": "https://localhost:8080/",
          "height": 393
        },
        "id": "EVR62TfEIUpd",
        "outputId": "cd054faf-2c75-4142-f421-60448ba6cc71"
      },
      "execution_count": null,
      "outputs": [
        {
          "output_type": "execute_result",
          "data": {
            "text/plain": [
              "            catalog      purchase     ordersize        purtvr        purweb  \\\n",
              "count  11200.000000  11200.000000  11200.000000  11200.000000  11200.000000   \n",
              "mean       0.495000      0.106786     12.974189      0.023482      0.088125   \n",
              "std        0.499997      0.308854     64.795714      0.151436      0.283489   \n",
              "min        0.000000      0.000000      0.000000      0.000000      0.000000   \n",
              "25%        0.000000      0.000000      0.000000      0.000000      0.000000   \n",
              "50%        0.000000      0.000000      0.000000      0.000000      0.000000   \n",
              "75%        1.000000      0.000000      0.000000      0.000000      0.000000   \n",
              "max        1.000000      1.000000   1644.980000      1.000000      1.000000   \n",
              "\n",
              "            mailper  lastordersize      statepur  formerchannelpreference  \\\n",
              "count  11200.000000   11200.000000  11200.000000             11200.000000   \n",
              "mean       0.635000     106.592790      0.109821                 0.510436   \n",
              "std        0.481452     164.879493      0.312681                 0.424777   \n",
              "min        0.000000       0.000000      0.000000                 0.000000   \n",
              "25%        0.000000      30.980000      0.000000                 0.000000   \n",
              "50%        1.000000      59.950000      0.000000                 0.500000   \n",
              "75%        1.000000     112.010000      0.000000                 1.000000   \n",
              "max        1.000000    2398.000000      1.000000                 1.000000   \n",
              "\n",
              "       formerpurchases  ...   timespline3     cexmonth1      cexmail2  \\\n",
              "count     11200.000000  ...  11200.000000  11200.000000  11200.000000   \n",
              "mean          6.182500  ...      0.321429      6.682500      0.312500   \n",
              "std           6.613857  ...      0.467046      8.824038      0.463533   \n",
              "min           1.000000  ...      0.000000      0.000000      0.000000   \n",
              "25%           2.000000  ...      0.000000      0.000000      0.000000   \n",
              "50%           4.000000  ...      0.000000      0.000000      0.000000   \n",
              "75%           8.000000  ...      1.000000     13.000000      1.000000   \n",
              "max          59.000000  ...      1.000000     27.000000      1.000000   \n",
              "\n",
              "           cexstpur      cexinitv       cexmin1       cexspl2       cexspl3  \\\n",
              "count  11200.000000  11200.000000  11200.000000  11200.000000  11200.000000   \n",
              "mean       0.048929      0.267053      3.010000      0.159107      0.159107   \n",
              "std        0.215728      0.403046      5.220856      0.365792      0.365792   \n",
              "min        0.000000      0.000000      0.000000      0.000000      0.000000   \n",
              "25%        0.000000      0.000000      0.000000      0.000000      0.000000   \n",
              "50%        0.000000      0.000000      0.000000      0.000000      0.000000   \n",
              "75%        0.000000      0.500000      4.000000      0.000000      0.000000   \n",
              "max        1.000000      1.000000     31.000000      1.000000      1.000000   \n",
              "\n",
              "           cexorlas       cexmino  \n",
              "count  11200.000000  11200.000000  \n",
              "mean      56.212187     43.726709  \n",
              "std      141.154722    102.367837  \n",
              "min        0.000000      0.000000  \n",
              "25%        0.000000      0.000000  \n",
              "50%        0.000000      0.000000  \n",
              "75%       59.900000     56.756250  \n",
              "max     2398.000000   1291.256667  \n",
              "\n",
              "[8 rows x 22 columns]"
            ],
            "text/html": [
              "\n",
              "  <div id=\"df-33486e59-5809-42bf-9b61-4e122c2a61ad\">\n",
              "    <div class=\"colab-df-container\">\n",
              "      <div>\n",
              "<style scoped>\n",
              "    .dataframe tbody tr th:only-of-type {\n",
              "        vertical-align: middle;\n",
              "    }\n",
              "\n",
              "    .dataframe tbody tr th {\n",
              "        vertical-align: top;\n",
              "    }\n",
              "\n",
              "    .dataframe thead th {\n",
              "        text-align: right;\n",
              "    }\n",
              "</style>\n",
              "<table border=\"1\" class=\"dataframe\">\n",
              "  <thead>\n",
              "    <tr style=\"text-align: right;\">\n",
              "      <th></th>\n",
              "      <th>catalog</th>\n",
              "      <th>purchase</th>\n",
              "      <th>ordersize</th>\n",
              "      <th>purtvr</th>\n",
              "      <th>purweb</th>\n",
              "      <th>mailper</th>\n",
              "      <th>lastordersize</th>\n",
              "      <th>statepur</th>\n",
              "      <th>formerchannelpreference</th>\n",
              "      <th>formerpurchases</th>\n",
              "      <th>...</th>\n",
              "      <th>timespline3</th>\n",
              "      <th>cexmonth1</th>\n",
              "      <th>cexmail2</th>\n",
              "      <th>cexstpur</th>\n",
              "      <th>cexinitv</th>\n",
              "      <th>cexmin1</th>\n",
              "      <th>cexspl2</th>\n",
              "      <th>cexspl3</th>\n",
              "      <th>cexorlas</th>\n",
              "      <th>cexmino</th>\n",
              "    </tr>\n",
              "  </thead>\n",
              "  <tbody>\n",
              "    <tr>\n",
              "      <th>count</th>\n",
              "      <td>11200.000000</td>\n",
              "      <td>11200.000000</td>\n",
              "      <td>11200.000000</td>\n",
              "      <td>11200.000000</td>\n",
              "      <td>11200.000000</td>\n",
              "      <td>11200.000000</td>\n",
              "      <td>11200.000000</td>\n",
              "      <td>11200.000000</td>\n",
              "      <td>11200.000000</td>\n",
              "      <td>11200.000000</td>\n",
              "      <td>...</td>\n",
              "      <td>11200.000000</td>\n",
              "      <td>11200.000000</td>\n",
              "      <td>11200.000000</td>\n",
              "      <td>11200.000000</td>\n",
              "      <td>11200.000000</td>\n",
              "      <td>11200.000000</td>\n",
              "      <td>11200.000000</td>\n",
              "      <td>11200.000000</td>\n",
              "      <td>11200.000000</td>\n",
              "      <td>11200.000000</td>\n",
              "    </tr>\n",
              "    <tr>\n",
              "      <th>mean</th>\n",
              "      <td>0.495000</td>\n",
              "      <td>0.106786</td>\n",
              "      <td>12.974189</td>\n",
              "      <td>0.023482</td>\n",
              "      <td>0.088125</td>\n",
              "      <td>0.635000</td>\n",
              "      <td>106.592790</td>\n",
              "      <td>0.109821</td>\n",
              "      <td>0.510436</td>\n",
              "      <td>6.182500</td>\n",
              "      <td>...</td>\n",
              "      <td>0.321429</td>\n",
              "      <td>6.682500</td>\n",
              "      <td>0.312500</td>\n",
              "      <td>0.048929</td>\n",
              "      <td>0.267053</td>\n",
              "      <td>3.010000</td>\n",
              "      <td>0.159107</td>\n",
              "      <td>0.159107</td>\n",
              "      <td>56.212187</td>\n",
              "      <td>43.726709</td>\n",
              "    </tr>\n",
              "    <tr>\n",
              "      <th>std</th>\n",
              "      <td>0.499997</td>\n",
              "      <td>0.308854</td>\n",
              "      <td>64.795714</td>\n",
              "      <td>0.151436</td>\n",
              "      <td>0.283489</td>\n",
              "      <td>0.481452</td>\n",
              "      <td>164.879493</td>\n",
              "      <td>0.312681</td>\n",
              "      <td>0.424777</td>\n",
              "      <td>6.613857</td>\n",
              "      <td>...</td>\n",
              "      <td>0.467046</td>\n",
              "      <td>8.824038</td>\n",
              "      <td>0.463533</td>\n",
              "      <td>0.215728</td>\n",
              "      <td>0.403046</td>\n",
              "      <td>5.220856</td>\n",
              "      <td>0.365792</td>\n",
              "      <td>0.365792</td>\n",
              "      <td>141.154722</td>\n",
              "      <td>102.367837</td>\n",
              "    </tr>\n",
              "    <tr>\n",
              "      <th>min</th>\n",
              "      <td>0.000000</td>\n",
              "      <td>0.000000</td>\n",
              "      <td>0.000000</td>\n",
              "      <td>0.000000</td>\n",
              "      <td>0.000000</td>\n",
              "      <td>0.000000</td>\n",
              "      <td>0.000000</td>\n",
              "      <td>0.000000</td>\n",
              "      <td>0.000000</td>\n",
              "      <td>1.000000</td>\n",
              "      <td>...</td>\n",
              "      <td>0.000000</td>\n",
              "      <td>0.000000</td>\n",
              "      <td>0.000000</td>\n",
              "      <td>0.000000</td>\n",
              "      <td>0.000000</td>\n",
              "      <td>0.000000</td>\n",
              "      <td>0.000000</td>\n",
              "      <td>0.000000</td>\n",
              "      <td>0.000000</td>\n",
              "      <td>0.000000</td>\n",
              "    </tr>\n",
              "    <tr>\n",
              "      <th>25%</th>\n",
              "      <td>0.000000</td>\n",
              "      <td>0.000000</td>\n",
              "      <td>0.000000</td>\n",
              "      <td>0.000000</td>\n",
              "      <td>0.000000</td>\n",
              "      <td>0.000000</td>\n",
              "      <td>30.980000</td>\n",
              "      <td>0.000000</td>\n",
              "      <td>0.000000</td>\n",
              "      <td>2.000000</td>\n",
              "      <td>...</td>\n",
              "      <td>0.000000</td>\n",
              "      <td>0.000000</td>\n",
              "      <td>0.000000</td>\n",
              "      <td>0.000000</td>\n",
              "      <td>0.000000</td>\n",
              "      <td>0.000000</td>\n",
              "      <td>0.000000</td>\n",
              "      <td>0.000000</td>\n",
              "      <td>0.000000</td>\n",
              "      <td>0.000000</td>\n",
              "    </tr>\n",
              "    <tr>\n",
              "      <th>50%</th>\n",
              "      <td>0.000000</td>\n",
              "      <td>0.000000</td>\n",
              "      <td>0.000000</td>\n",
              "      <td>0.000000</td>\n",
              "      <td>0.000000</td>\n",
              "      <td>1.000000</td>\n",
              "      <td>59.950000</td>\n",
              "      <td>0.000000</td>\n",
              "      <td>0.500000</td>\n",
              "      <td>4.000000</td>\n",
              "      <td>...</td>\n",
              "      <td>0.000000</td>\n",
              "      <td>0.000000</td>\n",
              "      <td>0.000000</td>\n",
              "      <td>0.000000</td>\n",
              "      <td>0.000000</td>\n",
              "      <td>0.000000</td>\n",
              "      <td>0.000000</td>\n",
              "      <td>0.000000</td>\n",
              "      <td>0.000000</td>\n",
              "      <td>0.000000</td>\n",
              "    </tr>\n",
              "    <tr>\n",
              "      <th>75%</th>\n",
              "      <td>1.000000</td>\n",
              "      <td>0.000000</td>\n",
              "      <td>0.000000</td>\n",
              "      <td>0.000000</td>\n",
              "      <td>0.000000</td>\n",
              "      <td>1.000000</td>\n",
              "      <td>112.010000</td>\n",
              "      <td>0.000000</td>\n",
              "      <td>1.000000</td>\n",
              "      <td>8.000000</td>\n",
              "      <td>...</td>\n",
              "      <td>1.000000</td>\n",
              "      <td>13.000000</td>\n",
              "      <td>1.000000</td>\n",
              "      <td>0.000000</td>\n",
              "      <td>0.500000</td>\n",
              "      <td>4.000000</td>\n",
              "      <td>0.000000</td>\n",
              "      <td>0.000000</td>\n",
              "      <td>59.900000</td>\n",
              "      <td>56.756250</td>\n",
              "    </tr>\n",
              "    <tr>\n",
              "      <th>max</th>\n",
              "      <td>1.000000</td>\n",
              "      <td>1.000000</td>\n",
              "      <td>1644.980000</td>\n",
              "      <td>1.000000</td>\n",
              "      <td>1.000000</td>\n",
              "      <td>1.000000</td>\n",
              "      <td>2398.000000</td>\n",
              "      <td>1.000000</td>\n",
              "      <td>1.000000</td>\n",
              "      <td>59.000000</td>\n",
              "      <td>...</td>\n",
              "      <td>1.000000</td>\n",
              "      <td>27.000000</td>\n",
              "      <td>1.000000</td>\n",
              "      <td>1.000000</td>\n",
              "      <td>1.000000</td>\n",
              "      <td>31.000000</td>\n",
              "      <td>1.000000</td>\n",
              "      <td>1.000000</td>\n",
              "      <td>2398.000000</td>\n",
              "      <td>1291.256667</td>\n",
              "    </tr>\n",
              "  </tbody>\n",
              "</table>\n",
              "<p>8 rows × 22 columns</p>\n",
              "</div>\n",
              "      <button class=\"colab-df-convert\" onclick=\"convertToInteractive('df-33486e59-5809-42bf-9b61-4e122c2a61ad')\"\n",
              "              title=\"Convert this dataframe to an interactive table.\"\n",
              "              style=\"display:none;\">\n",
              "        \n",
              "  <svg xmlns=\"http://www.w3.org/2000/svg\" height=\"24px\"viewBox=\"0 0 24 24\"\n",
              "       width=\"24px\">\n",
              "    <path d=\"M0 0h24v24H0V0z\" fill=\"none\"/>\n",
              "    <path d=\"M18.56 5.44l.94 2.06.94-2.06 2.06-.94-2.06-.94-.94-2.06-.94 2.06-2.06.94zm-11 1L8.5 8.5l.94-2.06 2.06-.94-2.06-.94L8.5 2.5l-.94 2.06-2.06.94zm10 10l.94 2.06.94-2.06 2.06-.94-2.06-.94-.94-2.06-.94 2.06-2.06.94z\"/><path d=\"M17.41 7.96l-1.37-1.37c-.4-.4-.92-.59-1.43-.59-.52 0-1.04.2-1.43.59L10.3 9.45l-7.72 7.72c-.78.78-.78 2.05 0 2.83L4 21.41c.39.39.9.59 1.41.59.51 0 1.02-.2 1.41-.59l7.78-7.78 2.81-2.81c.8-.78.8-2.07 0-2.86zM5.41 20L4 18.59l7.72-7.72 1.47 1.35L5.41 20z\"/>\n",
              "  </svg>\n",
              "      </button>\n",
              "      \n",
              "  <style>\n",
              "    .colab-df-container {\n",
              "      display:flex;\n",
              "      flex-wrap:wrap;\n",
              "      gap: 12px;\n",
              "    }\n",
              "\n",
              "    .colab-df-convert {\n",
              "      background-color: #E8F0FE;\n",
              "      border: none;\n",
              "      border-radius: 50%;\n",
              "      cursor: pointer;\n",
              "      display: none;\n",
              "      fill: #1967D2;\n",
              "      height: 32px;\n",
              "      padding: 0 0 0 0;\n",
              "      width: 32px;\n",
              "    }\n",
              "\n",
              "    .colab-df-convert:hover {\n",
              "      background-color: #E2EBFA;\n",
              "      box-shadow: 0px 1px 2px rgba(60, 64, 67, 0.3), 0px 1px 3px 1px rgba(60, 64, 67, 0.15);\n",
              "      fill: #174EA6;\n",
              "    }\n",
              "\n",
              "    [theme=dark] .colab-df-convert {\n",
              "      background-color: #3B4455;\n",
              "      fill: #D2E3FC;\n",
              "    }\n",
              "\n",
              "    [theme=dark] .colab-df-convert:hover {\n",
              "      background-color: #434B5C;\n",
              "      box-shadow: 0px 1px 3px 1px rgba(0, 0, 0, 0.15);\n",
              "      filter: drop-shadow(0px 1px 2px rgba(0, 0, 0, 0.3));\n",
              "      fill: #FFFFFF;\n",
              "    }\n",
              "  </style>\n",
              "\n",
              "      <script>\n",
              "        const buttonEl =\n",
              "          document.querySelector('#df-33486e59-5809-42bf-9b61-4e122c2a61ad button.colab-df-convert');\n",
              "        buttonEl.style.display =\n",
              "          google.colab.kernel.accessAllowed ? 'block' : 'none';\n",
              "\n",
              "        async function convertToInteractive(key) {\n",
              "          const element = document.querySelector('#df-33486e59-5809-42bf-9b61-4e122c2a61ad');\n",
              "          const dataTable =\n",
              "            await google.colab.kernel.invokeFunction('convertToInteractive',\n",
              "                                                     [key], {});\n",
              "          if (!dataTable) return;\n",
              "\n",
              "          const docLinkHtml = 'Like what you see? Visit the ' +\n",
              "            '<a target=\"_blank\" href=https://colab.research.google.com/notebooks/data_table.ipynb>data table notebook</a>'\n",
              "            + ' to learn more about interactive tables.';\n",
              "          element.innerHTML = '';\n",
              "          dataTable['output_type'] = 'display_data';\n",
              "          await google.colab.output.renderOutput(dataTable, element);\n",
              "          const docLink = document.createElement('div');\n",
              "          docLink.innerHTML = docLinkHtml;\n",
              "          element.appendChild(docLink);\n",
              "        }\n",
              "      </script>\n",
              "    </div>\n",
              "  </div>\n",
              "  "
            ]
          },
          "metadata": {},
          "execution_count": 4
        }
      ]
    },
    {
      "cell_type": "code",
      "source": [
        "plt.figure(figsize=(13,10))\n",
        "corrmat = df.corr()\n",
        "corrmat2 = abs(corrmat)\n",
        "sns.heatmap(corrmat)"
      ],
      "metadata": {
        "colab": {
          "base_uri": "https://localhost:8080/",
          "height": 730
        },
        "id": "YQQpZuaID70k",
        "outputId": "9726f261-1336-4552-c09d-9d399b03c08e"
      },
      "execution_count": null,
      "outputs": [
        {
          "output_type": "execute_result",
          "data": {
            "text/plain": [
              "<matplotlib.axes._subplots.AxesSubplot at 0x7fd63af7e910>"
            ]
          },
          "metadata": {},
          "execution_count": 5
        },
        {
          "output_type": "display_data",
          "data": {
            "text/plain": [
              "<Figure size 936x720 with 2 Axes>"
            ],
            "image/png": "[encoded data removed]"
          },
          "metadata": {
            "needs_background": "light"
          }
        }
      ]
    },
    {
      "cell_type": "markdown",
      "source": [],
      "metadata": {
        "id": "-uNNlUM4G80g"
      }
    },
    {
      "cell_type": "code",
      "source": [
        "df.columns"
      ],
      "metadata": {
        "colab": {
          "base_uri": "https://localhost:8080/"
        },
        "id": "7fCAFKItExuz",
        "outputId": "3e5ea7f3-bfcb-4424-d84e-e4da30d95125"
      },
      "execution_count": null,
      "outputs": [
        {
          "output_type": "execute_result",
          "data": {
            "text/plain": [
              "Index(['catalog', 'purchase', 'ordersize', 'purtvr', 'purweb', 'mailper',\n",
              "       'lastordersize', 'statepur', 'formerchannelpreference',\n",
              "       'formerpurchases', 'monin_nu1', 'timespline2', 'timespline3',\n",
              "       'cexmonth1', 'cexmail2', 'cexstpur', 'cexinitv', 'cexmin1', 'cexspl2',\n",
              "       'cexspl3', 'cexorlas', 'cexmino'],\n",
              "      dtype='object')"
            ]
          },
          "metadata": {},
          "execution_count": 6
        }
      ]
    },
    {
      "cell_type": "code",
      "source": [
        "model1_interactions = smf.logit(formula=\"purchase ~ catalog + mailper + statepur + formerchannelpreference + timespline2 + timespline3 + cexmonth1 + cexmail2 + cexstpur + cexinitv + cexspl2 + cexspl3\" ,data=df).fit()"
      ],
      "metadata": {
        "colab": {
          "base_uri": "https://localhost:8080/"
        },
        "id": "qAKLAtOnEoCu",
        "outputId": "9c0837a4-5b11-47b3-bddb-5e49639fa23b"
      },
      "execution_count": null,
      "outputs": [
        {
          "output_type": "stream",
          "name": "stdout",
          "text": [
            "Optimization terminated successfully.\n",
            "         Current function value: 0.298495\n",
            "         Iterations 8\n"
          ]
        }
      ]
    },
    {
      "cell_type": "code",
      "source": [
        "model1 = smf.logit(formula=\"purchase ~ catalog + mailper + statepur + formerchannelpreference + timespline2 + timespline3\" ,data=df).fit()"
      ],
      "metadata": {
        "colab": {
          "base_uri": "https://localhost:8080/"
        },
        "id": "P9oNGIqvRz6I",
        "outputId": "97c5928a-c143-4c26-d14e-2cd825ccedb7"
      },
      "execution_count": null,
      "outputs": [
        {
          "output_type": "stream",
          "name": "stdout",
          "text": [
            "Optimization terminated successfully.\n",
            "         Current function value: 0.298681\n",
            "         Iterations 8\n"
          ]
        }
      ]
    },
    {
      "cell_type": "markdown",
      "source": [
        "ordersize, lastordersize, formerpirchases - we remove them\n",
        "- size effect\n",
        "- bias (possible presence in the same month)\n",
        "\n",
        "- we would insert them scaled (mean-centred *term used by the prof)"
      ],
      "metadata": {
        "id": "SXJ9Frk-KmI0"
      }
    },
    {
      "cell_type": "code",
      "source": [
        "print(model1.summary())"
      ],
      "metadata": {
        "colab": {
          "base_uri": "https://localhost:8080/"
        },
        "id": "GSsEgRofGkgD",
        "outputId": "d75e8233-c7da-442a-8620-d1ac62f8e9a8"
      },
      "execution_count": null,
      "outputs": [
        {
          "output_type": "stream",
          "name": "stdout",
          "text": [
            "                           Logit Regression Results                           \n",
            "==============================================================================\n",
            "Dep. Variable:               purchase   No. Observations:                11200\n",
            "Model:                          Logit   Df Residuals:                    11193\n",
            "Method:                           MLE   Df Model:                            6\n",
            "Date:                Tue, 29 Mar 2022   Pseudo R-squ.:                  0.1209\n",
            "Time:                        07:13:22   Log-Likelihood:                -3345.2\n",
            "converged:                       True   LL-Null:                       -3805.1\n",
            "Covariance Type:            nonrobust   LLR p-value:                2.001e-195\n",
            "===========================================================================================\n",
            "                              coef    std err          z      P>|z|      [0.025      0.975]\n",
            "-------------------------------------------------------------------------------------------\n",
            "Intercept                  -3.3745      0.126    -26.815      0.000      -3.621      -3.128\n",
            "catalog                    -0.2037      0.065     -3.144      0.002      -0.331      -0.077\n",
            "mailper                     1.6396      0.111     14.817      0.000       1.423       1.857\n",
            "statepur                    1.3958      0.073     19.113      0.000       1.253       1.539\n",
            "formerchannelpreference    -0.2038      0.085     -2.395      0.017      -0.371      -0.037\n",
            "timespline2                -0.1538      0.077     -1.996      0.046      -0.305      -0.003\n",
            "timespline3                -0.2137      0.078     -2.729      0.006      -0.367      -0.060\n",
            "===========================================================================================\n"
          ]
        }
      ]
    },
    {
      "cell_type": "code",
      "source": [
        "print(model1_interactions.summary())"
      ],
      "metadata": {
        "colab": {
          "base_uri": "https://localhost:8080/"
        },
        "id": "NaPMaeXCSI13",
        "outputId": "285629c6-af5d-46cb-94b2-d5c27fd7b9aa"
      },
      "execution_count": null,
      "outputs": [
        {
          "output_type": "stream",
          "name": "stdout",
          "text": [
            "                           Logit Regression Results                           \n",
            "==============================================================================\n",
            "Dep. Variable:               purchase   No. Observations:                11200\n",
            "Model:                          Logit   Df Residuals:                    11187\n",
            "Method:                           MLE   Df Model:                           12\n",
            "Date:                Tue, 29 Mar 2022   Pseudo R-squ.:                  0.1214\n",
            "Time:                        07:13:24   Log-Likelihood:                -3343.1\n",
            "converged:                       True   LL-Null:                       -3805.1\n",
            "Covariance Type:            nonrobust   LLR p-value:                4.183e-190\n",
            "===========================================================================================\n",
            "                              coef    std err          z      P>|z|      [0.025      0.975]\n",
            "-------------------------------------------------------------------------------------------\n",
            "Intercept                  -3.3964      0.167    -20.393      0.000      -3.723      -3.070\n",
            "catalog                    -0.0603      0.260     -0.231      0.817      -0.571       0.450\n",
            "mailper                     1.6624      0.150     11.118      0.000       1.369       1.955\n",
            "statepur                    1.4033      0.097     14.432      0.000       1.213       1.594\n",
            "formerchannelpreference    -0.1136      0.118     -0.960      0.337      -0.345       0.118\n",
            "timespline2                -0.1982      0.104     -1.912      0.056      -0.401       0.005\n",
            "timespline3                -0.2816      0.106     -2.661      0.008      -0.489      -0.074\n",
            "cexmonth1                  -0.0247      0.018     -1.390      0.164      -0.059       0.010\n",
            "cexmail2                   -0.0336      0.223     -0.151      0.880      -0.470       0.403\n",
            "cexstpur                   -0.0274      0.147     -0.186      0.852      -0.316       0.261\n",
            "cexinitv                   -0.1870      0.170     -1.098      0.272      -0.521       0.147\n",
            "cexspl2                     0.3349      0.230      1.456      0.145      -0.116       0.786\n",
            "cexspl3                     0.6068      0.364      1.665      0.096      -0.107       1.321\n",
            "===========================================================================================\n"
          ]
        }
      ]
    },
    {
      "cell_type": "markdown",
      "source": [
        "question2"
      ],
      "metadata": {
        "id": "xQr3vrtYTMN1"
      }
    },
    {
      "cell_type": "code",
      "source": [
        "model2 = smf.ols(formula= 'ordersize ~ catalog + purtvr + purweb + mailper + lastordersize + statepur + formerchannelpreference + formerpurchases + timespline2 + timespline3 + monin_nu1 + cexmonth1 + cexmail2 + cexstpur + cexinitv + cexmin1 + cexspl2 + cexspl3 + cexorlas + cexmino',data=df)\n",
        "results2 = model2.fit()"
      ],
      "metadata": {
        "id": "bZryKvveTNaL"
      },
      "execution_count": null,
      "outputs": []
    },
    {
      "cell_type": "code",
      "source": [
        "print(results2.summary())"
      ],
      "metadata": {
        "colab": {
          "base_uri": "https://localhost:8080/"
        },
        "id": "wWfFdTpBT5-O",
        "outputId": "5f1fa6bb-da33-4ae0-cc2e-474d2ae66160"
      },
      "execution_count": null,
      "outputs": [
        {
          "output_type": "stream",
          "name": "stdout",
          "text": [
            "                            OLS Regression Results                            \n",
            "==============================================================================\n",
            "Dep. Variable:              ordersize   R-squared:                       0.371\n",
            "Model:                            OLS   Adj. R-squared:                  0.370\n",
            "Method:                 Least Squares   F-statistic:                     330.2\n",
            "Date:                Tue, 29 Mar 2022   Prob (F-statistic):               0.00\n",
            "Time:                        07:13:26   Log-Likelihood:                -60010.\n",
            "No. Observations:               11200   AIC:                         1.201e+05\n",
            "Df Residuals:                   11179   BIC:                         1.202e+05\n",
            "Df Model:                          20                                         \n",
            "Covariance Type:            nonrobust                                         \n",
            "===========================================================================================\n",
            "                              coef    std err          t      P>|t|      [0.025      0.975]\n",
            "-------------------------------------------------------------------------------------------\n",
            "Intercept                  -5.8532      2.074     -2.822      0.005      -9.919      -1.788\n",
            "catalog                     5.6685      3.167      1.790      0.073      -0.539      11.876\n",
            "purtvr                    140.0812      3.258     42.995      0.000     133.695     146.468\n",
            "purweb                    106.6827      1.841     57.958      0.000     103.075     110.291\n",
            "mailper                    -4.4981      1.641     -2.741      0.006      -7.714      -1.282\n",
            "lastordersize               0.0248      0.005      4.601      0.000       0.014       0.035\n",
            "statepur                    4.2794      2.258      1.895      0.058      -0.147       8.706\n",
            "formerchannelpreference    -1.3860      1.805     -0.768      0.443      -4.924       2.152\n",
            "formerpurchases             0.8391      0.106      7.920      0.000       0.631       1.047\n",
            "timespline2                 0.4797      1.664      0.288      0.773      -2.782       3.741\n",
            "timespline3                 1.7114      1.666      1.027      0.304      -1.554       4.976\n",
            "monin_nu1                   0.0152      0.007      2.290      0.022       0.002       0.028\n",
            "cexmonth1                  -0.1655      0.257     -0.644      0.520      -0.669       0.338\n",
            "cexmail2                    3.6760      2.284      1.609      0.108      -0.802       8.154\n",
            "cexstpur                   -3.8685      3.314     -1.167      0.243     -10.365       2.628\n",
            "cexinitv                    1.2947      2.503      0.517      0.605      -3.612       6.202\n",
            "cexmin1                    -1.2653      0.162     -7.790      0.000      -1.584      -0.947\n",
            "cexspl2                     1.0050      3.398      0.296      0.767      -5.655       7.665\n",
            "cexspl3                     1.9715      5.309      0.371      0.710      -8.436      12.379\n",
            "cexorlas                   -0.0221      0.007     -3.158      0.002      -0.036      -0.008\n",
            "cexmino                     0.0210      0.009      2.296      0.022       0.003       0.039\n",
            "==============================================================================\n",
            "Omnibus:                    18373.872   Durbin-Watson:                   1.958\n",
            "Prob(Omnibus):                  0.000   Jarque-Bera (JB):         17461359.738\n",
            "Skew:                          10.860   Prob(JB):                         0.00\n",
            "Kurtosis:                     195.212   Cond. No.                     3.39e+03\n",
            "==============================================================================\n",
            "\n",
            "Warnings:\n",
            "[1] Standard Errors assume that the covariance matrix of the errors is correctly specified.\n",
            "[2] The condition number is large, 3.39e+03. This might indicate that there are\n",
            "strong multicollinearity or other numerical problems.\n"
          ]
        }
      ]
    },
    {
      "cell_type": "markdown",
      "source": [
        "question 3"
      ],
      "metadata": {
        "id": "ugWuC8oeWv16"
      }
    },
    {
      "cell_type": "code",
      "source": [
        "tvr_web = np.zeros(shape=df.shape[0])\n",
        "for i in range(len(tvr_web)):\n",
        "  if df['purtvr'][i] == 1:\n",
        "    tvr_web[i] = 1\n",
        "  elif df['purweb'][i] == 1:\n",
        "    tvr_web[i] = 2\n",
        "  else:\n",
        "    tvr_web[i] = 0"
      ],
      "metadata": {
        "id": "SxiqylEFWsYo"
      },
      "execution_count": null,
      "outputs": []
    },
    {
      "cell_type": "code",
      "source": [
        "df['purtvr'][1][1]"
      ],
      "metadata": {
        "colab": {
          "base_uri": "https://localhost:8080/"
        },
        "id": "PGPHO38JiBAv",
        "outputId": "f081ca56-cdaf-44d8-d63f-1c3ef6918caa"
      },
      "execution_count": null,
      "outputs": [
        {
          "output_type": "execute_result",
          "data": {
            "text/plain": [
              "0.0"
            ]
          },
          "metadata": {},
          "execution_count": 21
        }
      ]
    }
  ],
  "metadata": {
    "colab": {
      "collapsed_sections": [],
      "provenance": []
    },
    "kernelspec": {
      "display_name": "Python 3",
      "name": "python3"
    },
    "language_info": {
      "name": "python"
    }
  },
  "nbformat": 4,
  "nbformat_minor": 0
}